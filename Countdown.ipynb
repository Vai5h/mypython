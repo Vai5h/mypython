{
  "nbformat": 4,
  "nbformat_minor": 0,
  "metadata": {
    "colab": {
      "provenance": [],
      "authorship_tag": "ABX9TyPYEkMVXzpoBByV5B+OxVUK",
      "include_colab_link": true
    },
    "kernelspec": {
      "name": "python3",
      "display_name": "Python 3"
    },
    "language_info": {
      "name": "python"
    }
  },
  "cells": [
    {
      "cell_type": "markdown",
      "metadata": {
        "id": "view-in-github",
        "colab_type": "text"
      },
      "source": [
        "<a href=\"https://colab.research.google.com/github/Vai5h/mypython/blob/main/Countdown.ipynb\" target=\"_parent\"><img src=\"https://colab.research.google.com/assets/colab-badge.svg\" alt=\"Open In Colab\"/></a>"
      ]
    },
    {
      "cell_type": "code",
      "execution_count": null,
      "metadata": {
        "colab": {
          "base_uri": "https://localhost:8080/"
        },
        "id": "vv35TgfdQY1e",
        "outputId": "c8fd55f0-102a-4517-858a-d44eac98fe5a"
      },
      "outputs": [
        {
          "output_type": "stream",
          "name": "stdout",
          "text": [
            "Enter the time in seconds: 30\n"
          ]
        }
      ],
      "source": [
        "import time\n",
        "\n",
        "def countdown(t):\n",
        "    while t:\n",
        "        mins, secs = divmod(t, 60)\n",
        "        timer = '{:02d}:{:02d}'.format(mins, secs)\n",
        "        print(timer, end=\"\\r\")\n",
        "        time.sleep(1)\n",
        "    print('Timer completed!')\n",
        "\n",
        "t = input('Enter the time in seconds: ')\n",
        "countdown(int(t))\n"
      ]
    }
  ]
}