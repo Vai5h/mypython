{
  "nbformat": 4,
  "nbformat_minor": 0,
  "metadata": {
    "colab": {
      "provenance": [],
      "authorship_tag": "ABX9TyPV9kiUFgm2QKf6Ga3+z0UL",
      "include_colab_link": true
    },
    "kernelspec": {
      "name": "python3",
      "display_name": "Python 3"
    },
    "language_info": {
      "name": "python"
    }
  },
  "cells": [
    {
      "cell_type": "markdown",
      "metadata": {
        "id": "view-in-github",
        "colab_type": "text"
      },
      "source": [
        "<a href=\"https://colab.research.google.com/github/Vai5h/mypython/blob/main/Fibonnaci_numero.ipynb\" target=\"_parent\"><img src=\"https://colab.research.google.com/assets/colab-badge.svg\" alt=\"Open In Colab\"/></a>"
      ]
    },
    {
      "cell_type": "code",
      "execution_count": 2,
      "metadata": {
        "colab": {
          "base_uri": "https://localhost:8080/"
        },
        "id": "Ke_1zKCMKSpe",
        "outputId": "162e7e5f-f8a3-4d6c-e7cb-f1cb6003c5c3"
      },
      "outputs": [
        {
          "output_type": "stream",
          "name": "stdout",
          "text": [
            "Enter the number of fibonacci series you want:15\n",
            "1 2 3 5 8 13 21 34 55 89 144 233 377 610 987 \n"
          ]
        }
      ],
      "source": [
        "n=int(input(\"Enter the number of fibonacci series you want:\"))\n",
        "num1=0\n",
        "num2=1\n",
        "next_number=num2\n",
        "count=1\n",
        "while count<=n:\n",
        "    print(next_number,end=\" \")\n",
        "    count+=1\n",
        "    num1,num2 =num2, next_number\n",
        "    next_number= num1+num2\n",
        "print()"
      ]
    }
  ]
}