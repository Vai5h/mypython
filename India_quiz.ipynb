{
  "nbformat": 4,
  "nbformat_minor": 0,
  "metadata": {
    "colab": {
      "provenance": [],
      "authorship_tag": "ABX9TyMebztqeuK+92vCt9LzFN7T",
      "include_colab_link": true
    },
    "kernelspec": {
      "name": "python3",
      "display_name": "Python 3"
    },
    "language_info": {
      "name": "python"
    }
  },
  "cells": [
    {
      "cell_type": "markdown",
      "metadata": {
        "id": "view-in-github",
        "colab_type": "text"
      },
      "source": [
        "<a href=\"https://colab.research.google.com/github/Vai5h/mypython/blob/main/India_quiz.ipynb\" target=\"_parent\"><img src=\"https://colab.research.google.com/assets/colab-badge.svg\" alt=\"Open In Colab\"/></a>"
      ]
    },
    {
      "cell_type": "code",
      "execution_count": 7,
      "metadata": {
        "colab": {
          "base_uri": "https://localhost:8080/"
        },
        "id": "kL_QQDvUNDTN",
        "outputId": "2d205c7d-1113-42b1-c233-c9cc03bd3401"
      },
      "outputs": [
        {
          "output_type": "stream",
          "name": "stdout",
          "text": [
            "Welcome to do you know India quiz\n",
            "Are you READY to play the quiz?(yes/no):yes\n",
            "Question 1 : What is the capital of India?delhi\n",
            "Correct\n",
            "Question 2 : What is our national tree?banyan\n",
            "correct\n",
            "What is our national language?hindi\n",
            "correct answer\n",
            "Congratulations for attempting this quiz, you attempted, 3 questions correctly\n",
            "marks obtained 100.0\n",
            "SEE YOU LATERR!!\n"
          ]
        }
      ],
      "source": [
        "print(\"Welcome to do you know India quiz\")\n",
        "answer=input(\"Are you READY to play the quiz?(yes/no):\")\n",
        "score=0\n",
        "total_questions=3\n",
        "if answer.lower()==\"yes\":\n",
        "  answer=input(\"Question 1 : What is the capital of India?\")\n",
        "  if answer.lower()==\"delhi\":\n",
        "    score+=1\n",
        "    print(\"Correct\")\n",
        "  else:\n",
        "    print(\"Wrong answer:(\")\n",
        "  answer=input(\"Question 2 : What is our national tree?\")\n",
        "  if answer.lower()==\"banyan\":\n",
        "    score+=1\n",
        "    print(\"correct\")\n",
        "  else:\n",
        "    print(\"wrong answer:(\")\n",
        "  answer=input(\"What is our national language?\")\n",
        "\n",
        "  if answer.lower()==\"hindi\":\n",
        "    score+=1\n",
        "    print(\"correct answer\")\n",
        "  else:\n",
        "    print(\"Wrong answer:(\")\n",
        "print(\"Congratulations for attempting this quiz, you attempted,\" ,score ,\"questions correctly\")\n",
        "marks=(score/total_questions)*100\n",
        "print(\"marks obtained\",marks)\n",
        "print(\"SEE YOU LATERR!!\")\n",
        "\n"
      ]
    }
  ]
}