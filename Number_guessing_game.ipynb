{
  "nbformat": 4,
  "nbformat_minor": 0,
  "metadata": {
    "colab": {
      "provenance": [],
      "authorship_tag": "ABX9TyOA49Uutp5A6reU2h/aPXYF",
      "include_colab_link": true
    },
    "kernelspec": {
      "name": "python3",
      "display_name": "Python 3"
    },
    "language_info": {
      "name": "python"
    }
  },
  "cells": [
    {
      "cell_type": "markdown",
      "metadata": {
        "id": "view-in-github",
        "colab_type": "text"
      },
      "source": [
        "<a href=\"https://colab.research.google.com/github/Vai5h/mypython/blob/main/Number_guessing_game.ipynb\" target=\"_parent\"><img src=\"https://colab.research.google.com/assets/colab-badge.svg\" alt=\"Open In Colab\"/></a>"
      ]
    },
    {
      "cell_type": "code",
      "execution_count": null,
      "metadata": {
        "id": "jCOMvD3hh-gN"
      },
      "outputs": [],
      "source": [
        "import random\n",
        "import math\n",
        "lower=int(input(\"Enter the lower bound:\"))\n",
        "upper=int(input(\"Enter the upper bound:\"))\n",
        "x=random.randint(lower,upper)\n",
        "total_chances= math.ceil(math.log(upper-lower+1,2))\n",
        "print(\"\\n\\tyou have only\",total_chances,\"chances to guess the number!\\n\")\n",
        "count=0\n",
        "flag=False\n",
        "while count<total_chances:\n",
        "    count+=1\n",
        "    guess = int(input(\"Your guess number is:\"))\n",
        "\n",
        "    if x == guess:\n",
        "      print(\"Congartulations you did it in\",count,\"try\")\n",
        "      flag=true\n",
        "      break\n",
        "\n",
        "    elif x > guess:\n",
        "      print(\"Your guess is too low\")\n",
        "\n",
        "    elif x < guess:\n",
        "      print(\"Your guess is too high\")\n",
        "if not flag:\n",
        "  print(\"The number is %d\")\n",
        "  print(\"Better luck next time\")\n",
        "\n",
        "\n",
        "\n",
        "\n"
      ]
    }
  ]
}