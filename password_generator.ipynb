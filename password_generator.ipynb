{
  "nbformat": 4,
  "nbformat_minor": 0,
  "metadata": {
    "colab": {
      "provenance": [],
      "authorship_tag": "ABX9TyOpWpEWnC6j5gVw9hAnJtx7",
      "include_colab_link": true
    },
    "kernelspec": {
      "name": "python3",
      "display_name": "Python 3"
    },
    "language_info": {
      "name": "python"
    }
  },
  "cells": [
    {
      "cell_type": "markdown",
      "metadata": {
        "id": "view-in-github",
        "colab_type": "text"
      },
      "source": [
        "<a href=\"https://colab.research.google.com/github/Vai5h/mypython/blob/main/password_generator.ipynb\" target=\"_parent\"><img src=\"https://colab.research.google.com/assets/colab-badge.svg\" alt=\"Open In Colab\"/></a>"
      ]
    },
    {
      "cell_type": "code",
      "execution_count": 20,
      "metadata": {
        "colab": {
          "base_uri": "https://localhost:8080/"
        },
        "id": "_-X4jobnDYsx",
        "outputId": "a34c7e87-42cb-4ffe-f6d6-c340d1144f76"
      },
      "outputs": [
        {
          "output_type": "stream",
          "name": "stdout",
          "text": [
            "yQwG\n"
          ]
        }
      ],
      "source": [
        "import random\n",
        "def shuffle(string):\n",
        "  tempList=list(string)\n",
        "  random.shuffle(tempList)\n",
        "  return''.join(tempList)\n",
        "uppercaseletter1=chr(random.randint(65,90))\n",
        "uppercaseletter2=chr(random.randint(65,90))\n",
        "lowercaseletter3=chr(random.randint(97,122))\n",
        "lowercaseletter4=chr(random.randint(97,122))   # gives based of ascii code , check ascii table for this\n",
        "password= uppercaseletter1 +uppercaseletter2 +lowercaseletter3 +lowercaseletter4\n",
        "password=shuffle(password)\n",
        "print(password)\n",
        "\n"
      ]
    }
  ]
}