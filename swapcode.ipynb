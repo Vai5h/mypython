{
  "nbformat": 4,
  "nbformat_minor": 0,
  "metadata": {
    "colab": {
      "provenance": [],
      "authorship_tag": "ABX9TyNKODyTb3z+/bzWf2ZHDwvY",
      "include_colab_link": true
    },
    "kernelspec": {
      "name": "python3",
      "display_name": "Python 3"
    },
    "language_info": {
      "name": "python"
    }
  },
  "cells": [
    {
      "cell_type": "markdown",
      "metadata": {
        "id": "view-in-github",
        "colab_type": "text"
      },
      "source": [
        "<a href=\"https://colab.research.google.com/github/Vai5h/mypython/blob/main/swapcode.ipynb\" target=\"_parent\"><img src=\"https://colab.research.google.com/assets/colab-badge.svg\" alt=\"Open In Colab\"/></a>"
      ]
    },
    {
      "cell_type": "code",
      "execution_count": 1,
      "metadata": {
        "colab": {
          "base_uri": "https://localhost:8080/"
        },
        "id": "Jd0bbI-rC4os",
        "outputId": "e20a923c-8c04-46f1-be3b-92bd2275272d"
      },
      "outputs": [
        {
          "output_type": "stream",
          "name": "stdout",
          "text": [
            "[78, 23, 45, 56, 12]\n"
          ]
        }
      ],
      "source": [
        "def swapList(newlist):\n",
        "  size= len(newlist)\n",
        "  temp=newlist[0]\n",
        "  newlist[0]=newlist[size-1]\n",
        "  newlist[size-1]=temp\n",
        "  return newlist\n",
        "newlist=[12,23,45,56,78]\n",
        "print(swapList(newlist))"
      ]
    }
  ]
}